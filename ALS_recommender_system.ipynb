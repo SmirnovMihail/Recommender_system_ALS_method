{
 "cells": [
  {
   "cell_type": "code",
   "execution_count": 164,
   "metadata": {},
   "outputs": [],
   "source": [
    "import torch as t\n",
    "import pandas as pd\n",
    "import numpy as np\n",
    "import matplotlib.pyplot as plt\n",
    "\n",
    "from copy import copy\n",
    "from torch.utils.data import DataLoader\n",
    "from torch import nn\n",
    "from sklearn.model_selection import train_test_split"
   ]
  },
  {
   "cell_type": "markdown",
   "metadata": {},
   "source": [
    "## Предобработка данных"
   ]
  },
  {
   "cell_type": "code",
   "execution_count": 97,
   "metadata": {},
   "outputs": [],
   "source": [
    "def aggregate_to_list(series): #aggregate function for group_by\n",
    "\n",
    "    res = list(series)\n",
    "    return res"
   ]
  },
  {
   "cell_type": "code",
   "execution_count": 206,
   "metadata": {},
   "outputs": [],
   "source": [
    "def make_sparse_tensor(df, batch_size=50, part=0.8): #makes two sparse tensors: train and test \n",
    "    \n",
    "    max_mov_id = df['movieId'].max()\n",
    "    max_user_id = df['userId'].max()\n",
    "    boundary = int(max_user_id * part)\n",
    "    \n",
    "    t_test = 0\n",
    "    t_train = 0\n",
    "    \n",
    "    df['movieId'] = df['movieId'] - 1\n",
    "    df['userId'] = df['userId'] - 1\n",
    "    \n",
    "    for i in range(0, max_user_id, batch_size):\n",
    "        \n",
    "        condition = (df.userId >= i) & (df.userId < i+batch_size)\n",
    "        new_df = df[condition].groupby(by='userId', as_index=False)[['movieId', 'rating']].agg(aggregate_to_list)\n",
    "\n",
    "        new_df['len'] = new_df['movieId'].apply(lambda x: len(x))\n",
    "        new_df['indexes'] = new_df['userId'].apply(lambda x: [x])\n",
    "        new_df['indexes'] = new_df['indexes'] * new_df['len']\n",
    "\n",
    "        idx = new_df[['movieId', 'indexes', 'rating']].sum()\n",
    "        indexes = np.asarray([np.asarray(idx['indexes'])-i, idx['movieId']])\n",
    "        \n",
    "        x_size = min(max_user_id - i, batch_size)\n",
    "        y_size = max_mov_id\n",
    "        \n",
    "        t_part = t.sparse_coo_tensor(indexes, np.asarray(idx['rating']), (x_size, y_size),\\\n",
    "                                     requires_grad=False, dtype=t.float32)\n",
    "\n",
    "        if i < boundary:\n",
    "            t_train = t_part if isinstance(t_train, int) else t.vstack((t_train, t_part))\n",
    "        elif i > boundary:\n",
    "            t_test = t_part if isinstance(t_test, int) else t.vstack((t_test, t_part))\n",
    "            \n",
    "    return t_train, t_test"
   ]
  },
  {
   "cell_type": "code",
   "execution_count": 130,
   "metadata": {},
   "outputs": [
    {
     "data": {
      "text/html": [
       "<div>\n",
       "<style scoped>\n",
       "    .dataframe tbody tr th:only-of-type {\n",
       "        vertical-align: middle;\n",
       "    }\n",
       "\n",
       "    .dataframe tbody tr th {\n",
       "        vertical-align: top;\n",
       "    }\n",
       "\n",
       "    .dataframe thead th {\n",
       "        text-align: right;\n",
       "    }\n",
       "</style>\n",
       "<table border=\"1\" class=\"dataframe\">\n",
       "  <thead>\n",
       "    <tr style=\"text-align: right;\">\n",
       "      <th></th>\n",
       "      <th>userId</th>\n",
       "      <th>movieId</th>\n",
       "      <th>rating</th>\n",
       "      <th>timestamp</th>\n",
       "    </tr>\n",
       "  </thead>\n",
       "  <tbody>\n",
       "    <tr>\n",
       "      <th>0</th>\n",
       "      <td>1</td>\n",
       "      <td>1</td>\n",
       "      <td>4.0</td>\n",
       "      <td>964982703</td>\n",
       "    </tr>\n",
       "    <tr>\n",
       "      <th>1</th>\n",
       "      <td>1</td>\n",
       "      <td>3</td>\n",
       "      <td>4.0</td>\n",
       "      <td>964981247</td>\n",
       "    </tr>\n",
       "    <tr>\n",
       "      <th>2</th>\n",
       "      <td>1</td>\n",
       "      <td>6</td>\n",
       "      <td>4.0</td>\n",
       "      <td>964982224</td>\n",
       "    </tr>\n",
       "    <tr>\n",
       "      <th>3</th>\n",
       "      <td>1</td>\n",
       "      <td>47</td>\n",
       "      <td>5.0</td>\n",
       "      <td>964983815</td>\n",
       "    </tr>\n",
       "    <tr>\n",
       "      <th>4</th>\n",
       "      <td>1</td>\n",
       "      <td>50</td>\n",
       "      <td>5.0</td>\n",
       "      <td>964982931</td>\n",
       "    </tr>\n",
       "    <tr>\n",
       "      <th>...</th>\n",
       "      <td>...</td>\n",
       "      <td>...</td>\n",
       "      <td>...</td>\n",
       "      <td>...</td>\n",
       "    </tr>\n",
       "    <tr>\n",
       "      <th>100831</th>\n",
       "      <td>610</td>\n",
       "      <td>166534</td>\n",
       "      <td>4.0</td>\n",
       "      <td>1493848402</td>\n",
       "    </tr>\n",
       "    <tr>\n",
       "      <th>100832</th>\n",
       "      <td>610</td>\n",
       "      <td>168248</td>\n",
       "      <td>5.0</td>\n",
       "      <td>1493850091</td>\n",
       "    </tr>\n",
       "    <tr>\n",
       "      <th>100833</th>\n",
       "      <td>610</td>\n",
       "      <td>168250</td>\n",
       "      <td>5.0</td>\n",
       "      <td>1494273047</td>\n",
       "    </tr>\n",
       "    <tr>\n",
       "      <th>100834</th>\n",
       "      <td>610</td>\n",
       "      <td>168252</td>\n",
       "      <td>5.0</td>\n",
       "      <td>1493846352</td>\n",
       "    </tr>\n",
       "    <tr>\n",
       "      <th>100835</th>\n",
       "      <td>610</td>\n",
       "      <td>170875</td>\n",
       "      <td>3.0</td>\n",
       "      <td>1493846415</td>\n",
       "    </tr>\n",
       "  </tbody>\n",
       "</table>\n",
       "<p>100836 rows × 4 columns</p>\n",
       "</div>"
      ],
      "text/plain": [
       "        userId  movieId  rating   timestamp\n",
       "0            1        1     4.0   964982703\n",
       "1            1        3     4.0   964981247\n",
       "2            1        6     4.0   964982224\n",
       "3            1       47     5.0   964983815\n",
       "4            1       50     5.0   964982931\n",
       "...        ...      ...     ...         ...\n",
       "100831     610   166534     4.0  1493848402\n",
       "100832     610   168248     5.0  1493850091\n",
       "100833     610   168250     5.0  1494273047\n",
       "100834     610   168252     5.0  1493846352\n",
       "100835     610   170875     3.0  1493846415\n",
       "\n",
       "[100836 rows x 4 columns]"
      ]
     },
     "execution_count": 130,
     "metadata": {},
     "output_type": "execute_result"
    }
   ],
   "source": [
    "df = pd.read_csv(\"ratings.csv\")\n",
    "df"
   ]
  },
  {
   "cell_type": "markdown",
   "metadata": {},
   "source": [
    "Создание разреженных матриц происходит поэтапно. Из таблицы извлекается информация о части полизователей в количестве batch_size для них создается разреженная матрица и присоединяется к общей разреженной матрице. При грамотном выборе количества пользователей можно добиться ускорения обработки в два раза. Если общее число  пользователей было бы еще больше то ускоренее было бы еще более существенным. "
   ]
  },
  {
   "cell_type": "code",
   "execution_count": 131,
   "metadata": {},
   "outputs": [
    {
     "name": "stdout",
     "output_type": "stream",
     "text": [
      "CPU times: user 673 ms, sys: 123 ms, total: 797 ms\n",
      "Wall time: 801 ms\n"
     ]
    }
   ],
   "source": [
    "%%time\n",
    "df = pd.read_csv(\"ratings.csv\")\n",
    "_ = make_sparse_tensor(df, batch_size=610)"
   ]
  },
  {
   "cell_type": "code",
   "execution_count": 132,
   "metadata": {},
   "outputs": [
    {
     "name": "stdout",
     "output_type": "stream",
     "text": [
      "CPU times: user 558 ms, sys: 34.7 ms, total: 593 ms\n",
      "Wall time: 581 ms\n"
     ]
    }
   ],
   "source": [
    "%%time\n",
    "df = pd.read_csv(\"ratings.csv\")\n",
    "_ = make_sparse_tensor(df, batch_size=20)"
   ]
  },
  {
   "cell_type": "code",
   "execution_count": 207,
   "metadata": {},
   "outputs": [
    {
     "name": "stdout",
     "output_type": "stream",
     "text": [
      "CPU times: user 331 ms, sys: 70.9 ms, total: 401 ms\n",
      "Wall time: 456 ms\n"
     ]
    },
    {
     "data": {
      "text/plain": [
       "(tensor(indices=tensor([[    0,     0,     0,  ...,   539,   539,   539],\n",
       "                        [    0,     2,     5,  ..., 45721, 48384, 48515]]),\n",
       "        values=tensor([4., 4., 4.,  ..., 4., 4., 5.]),\n",
       "        size=(540, 193609), nnz=84327, layout=torch.sparse_coo),\n",
       " tensor(indices=tensor([[     0,      0,      0,  ...,     69,     69,     69],\n",
       "                        [     0,      6,      9,  ..., 168249, 168251, 170874]]),\n",
       "        values=tensor([3., 4., 4.,  ..., 5., 5., 3.]),\n",
       "        size=(70, 193609), nnz=16509, layout=torch.sparse_coo))"
      ]
     },
     "execution_count": 207,
     "metadata": {},
     "output_type": "execute_result"
    }
   ],
   "source": [
    "%%time\n",
    "df = pd.read_csv(\"ratings.csv\")\n",
    "train_factor_matrix, test_factor_matrix = make_sparse_tensor(df, batch_size=90)\n",
    "train_factor_matrix, test_factor_matrix"
   ]
  },
  {
   "cell_type": "markdown",
   "metadata": {},
   "source": [
    "## Обучение модели"
   ]
  },
  {
   "cell_type": "code",
   "execution_count": 155,
   "metadata": {},
   "outputs": [],
   "source": [
    "class RMSELoss(nn.Module): #Root mean square error loss\n",
    "    \n",
    "    def __init__(self, eps=1e-6):\n",
    "        \n",
    "        super().__init__()\n",
    "        self.mse = nn.MSELoss()\n",
    "        self.eps = eps\n",
    "        \n",
    "        \n",
    "    def forward(self, prediction, y):\n",
    "        \n",
    "        self.zeros = t.zeros(prediction.shape)\n",
    "        prediction = t.where(y > 0, prediction, self.zeros)\n",
    "\n",
    "        num = t.where(y > 0)[0].shape[0]\n",
    "        loss = t.sqrt((prediction - y)**2 / (num + self.eps))\n",
    "\n",
    "        return loss.sum()/prediction.shape[0] # mean loss for exact batch"
   ]
  },
  {
   "cell_type": "code",
   "execution_count": 56,
   "metadata": {},
   "outputs": [],
   "source": [
    "class network_template(nn.Module): \n",
    "    \n",
    "    def __init__(self, layers):\n",
    "        \n",
    "        super().__init__()\n",
    "        self.layers = layers\n",
    "        \n",
    "    def forward(self, x):\n",
    "        \n",
    "        return self.layers(x)"
   ]
  },
  {
   "cell_type": "markdown",
   "metadata": {},
   "source": [
    "ALS заключается в поочередной итеративной оптимизации матрицы характеристик пользователей U и матрицы характеристик фильмов V, в классе обучаются две нейрнных сети: одна получает наилучшее в среднеквадратичном смысле приближение матрицы факторов R оптимизируя матрицу U, вторая оптимизируя матрицу V. На каждой эпохе мы проходимся сначала по всем пользователям батчами размера u_batch затем по всем фильмам батчами размера v_batch. В список лоссов добавляется усредненные лоссы по всем батчам обоих моделей в одной эпохе (Возможно не совсем корректно усреднять лоссы по обеим моделям, но в целом динамику обучения это отражает. Такой способ подсчета лосса объясняет различие лоссов теста и трейна ведь в тесте лосс считается только по предсказанию U)."
   ]
  },
  {
   "cell_type": "code",
   "execution_count": 208,
   "metadata": {},
   "outputs": [],
   "source": [
    "class rec_als_model:\n",
    "    \n",
    "    def __init__(self, factor_train, X_test, d=48, u_batch=48, v_batch=4096, learning_rate=0.005):\n",
    "        \n",
    "        self.factor_train = factor_train.float()\n",
    "        self.X_test = X_test.float()\n",
    "        \n",
    "        self.x_size = factor_train.shape[0] # Data sizes\n",
    "        self.y_size = factor_train.shape[1]\n",
    "        self.d = d\n",
    "        \n",
    "        f_matr_copy_T = factor_train.clone().transpose_(1, 0)\n",
    "        \n",
    "        self.U_train_dataloader = DataLoader(factor_train, batch_size=u_batch, shuffle=False) # Dataloaders\n",
    "        self.V_train_dataloader = DataLoader(f_matr_copy_T, batch_size=v_batch, shuffle=False)\n",
    "        \n",
    "        self.RMSE_loss = RMSELoss()\n",
    "        self.learning_rate = learning_rate\n",
    "        \n",
    "        self.U = t.rand((self.x_size, d), requires_grad=False, dtype=t.float32) + 1 #U, V initialization\n",
    "        self.V = t.rand((self.y_size, d), requires_grad=False, dtype=t.float32) + 1\n",
    "        \n",
    "        self.U_model = self.u_model_init()\n",
    "        self.V_model = self.v_model_init()\n",
    "        print('Models ready')\n",
    "        \n",
    "        self.u_optimizer = t.optim.Adam(self.U_model.parameters(), lr=self.learning_rate) # Optimizers\n",
    "        self.v_optimizer = t.optim.Adam(self.V_model.parameters(), lr=self.learning_rate)\n",
    "        print('Optimizers ready')\n",
    "\n",
    "        \n",
    "    def u_model_init(self):\n",
    "        \n",
    "        layers = nn.Sequential(nn.Linear(self.y_size, 2048),\n",
    "                               nn.ELU(),\n",
    "                               nn.Dropout(0.5),\n",
    "                               nn.Linear(2048, 1024),\n",
    "                               nn.ELU(),\n",
    "                               nn.Dropout(0.5),\n",
    "                               nn.Linear(1024, 256),\n",
    "                               nn.ELU(),\n",
    "                               nn.Dropout(0.5),\n",
    "                               nn.Linear(256, self.d))\n",
    "        \n",
    "        return network_template(layers)\n",
    "\n",
    "    \n",
    "    def v_model_init(self): \n",
    "        \n",
    "        layers = nn.Sequential(nn.Linear(self.x_size, self.x_size // 2),\n",
    "                               nn.ELU(),\n",
    "                               nn.Dropout(0.5),\n",
    "                               nn.Linear(self.x_size // 2, self.x_size // 2),\n",
    "                               nn.ELU(),\n",
    "                               nn.Dropout(0.5),\n",
    "                               nn.Linear(self.x_size // 2, self.x_size // 4),\n",
    "                               nn.ELU(),\n",
    "                               nn.Dropout(0.5),\n",
    "                               nn.Linear(self.x_size // 4, self.d))\n",
    "        \n",
    "        return network_template(layers)\n",
    "    \n",
    "    \n",
    "    def train(self, epochs=30): # Main training function\n",
    "        \n",
    "        losses_train = []\n",
    "        losses_test = []\n",
    "        \n",
    "        for i in range(epochs):\n",
    "            \n",
    "            losses = []\n",
    "            low_boundary = 0\n",
    "            high_boundary = self.U_train_dataloader.batch_size\n",
    "            \n",
    "            for f_matr_part in self.U_train_dataloader: # training U_model\n",
    "                \n",
    "                self.u_optimizer.zero_grad()\n",
    "                \n",
    "                dense_matr = f_matr_part.to_dense()\n",
    "                \n",
    "                prediction = self.U_model.forward(dense_matr.float())\n",
    "                self.U[low_boundary:high_boundary] = prediction\n",
    "                \n",
    "                loss = self.RMSE_loss.forward(prediction@(self.V.transpose(1, 0)), dense_matr)\n",
    "                loss.backward()\n",
    "                self.u_optimizer.step()\n",
    "                \n",
    "                low_boundary += self.U_train_dataloader.batch_size\n",
    "                high_boundary += self.U_train_dataloader.batch_size\n",
    "                \n",
    "                losses.append(float(loss.data))\n",
    "            \n",
    "            self.U = self.U.detach()\n",
    "            \n",
    "            low_boundary = 0\n",
    "            high_boundary = self.V_train_dataloader.batch_size\n",
    "            \n",
    "            for f_matr_part in self.V_train_dataloader: # training V_model\n",
    "                \n",
    "                self.v_optimizer.zero_grad()\n",
    "                \n",
    "                dense_matr = f_matr_part.to_dense()\n",
    "                \n",
    "                prediction = self.V_model.forward(dense_matr)\n",
    "                self.V[low_boundary:high_boundary] = prediction\n",
    "                \n",
    "                loss = self.RMSE_loss.forward(self.U@(prediction.transpose(1, 0)), dense_matr.transpose(1, 0))\n",
    "                loss.backward()\n",
    "                self.v_optimizer.step()\n",
    "                \n",
    "                low_boundary += self.V_train_dataloader.batch_size\n",
    "                high_boundary += self.V_train_dataloader.batch_size\n",
    "                \n",
    "                losses.append(float(loss.data))\n",
    "\n",
    "            self.V = self.V.detach()\n",
    "            \n",
    "            loss = np.mean(np.asarray(losses))\n",
    "            losses_train.append(loss)\n",
    "            \n",
    "            print('\\nEpoch {}\\nTrain loss = {}'.format(i, loss))\n",
    "            \n",
    "            test_loss = self.RMSE_loss.forward(self.forward(self.X_test.to_dense()), self.X_test.to_dense())\n",
    "            losses_test.append(float(test_loss.data))\n",
    "            print('Test loss = {}'.format(test_loss))\n",
    "            \n",
    "        return losses_train, losses_test\n",
    "            \n",
    "            \n",
    "    def forward(self, x): # Fills gaps in factor matrix (predicts unknown ratings)\n",
    "        \n",
    "        prediction = self.U_model.forward(x.float())\n",
    "        \n",
    "        return prediction@(self.V.transpose(1, 0))"
   ]
  },
  {
   "cell_type": "code",
   "execution_count": 159,
   "metadata": {},
   "outputs": [
    {
     "name": "stdout",
     "output_type": "stream",
     "text": [
      "Models ready\n",
      "Optimizers ready\n"
     ]
    }
   ],
   "source": [
    "model = rec_als_model(train_factor_matrix, test_factor_matrix, learning_rate=0.001)"
   ]
  },
  {
   "cell_type": "code",
   "execution_count": 160,
   "metadata": {
    "scrolled": true
   },
   "outputs": [
    {
     "name": "stdout",
     "output_type": "stream",
     "text": [
      "\n",
      "Epoch 0\n",
      "Train loss = 4.594184825227907\n",
      "Test loss = 5.498933792114258\n",
      "\n",
      "Epoch 1\n",
      "Train loss = 1.2693915363866837\n",
      "Test loss = 8.580903053283691\n",
      "\n",
      "Epoch 2\n",
      "Train loss = 1.4715738965353617\n",
      "Test loss = 4.095565319061279\n",
      "\n",
      "Epoch 3\n",
      "Train loss = 0.8884141005498046\n",
      "Test loss = 3.634897232055664\n",
      "\n",
      "Epoch 4\n",
      "Train loss = 0.7977330410697808\n",
      "Test loss = 3.935516357421875\n",
      "\n",
      "Epoch 5\n",
      "Train loss = 0.7855826668596516\n",
      "Test loss = 2.562246799468994\n",
      "\n",
      "Epoch 6\n",
      "Train loss = 0.5972736026936522\n",
      "Test loss = 2.302893877029419\n",
      "\n",
      "Epoch 7\n",
      "Train loss = 0.6042672509657374\n",
      "Test loss = 2.2673022747039795\n",
      "\n",
      "Epoch 8\n",
      "Train loss = 0.5497232550677533\n",
      "Test loss = 2.6335771083831787\n",
      "\n",
      "Epoch 9\n",
      "Train loss = 0.5800445766304619\n",
      "Test loss = 2.39168643951416\n",
      "\n",
      "Epoch 10\n",
      "Train loss = 0.5430509688332676\n",
      "Test loss = 2.5040476322174072\n",
      "\n",
      "Epoch 11\n",
      "Train loss = 0.5586147422203794\n",
      "Test loss = 2.528024673461914\n",
      "\n",
      "Epoch 12\n",
      "Train loss = 0.5779523162908542\n",
      "Test loss = 2.678508996963501\n",
      "\n",
      "Epoch 13\n",
      "Train loss = 0.5913791176009302\n",
      "Test loss = 2.4293265342712402\n",
      "\n",
      "Epoch 14\n",
      "Train loss = 0.5022447311397021\n",
      "Test loss = 1.9772517681121826\n",
      "\n",
      "Epoch 15\n",
      "Train loss = 0.4516365344092871\n",
      "Test loss = 1.9611345529556274\n",
      "\n",
      "Epoch 16\n",
      "Train loss = 0.4412436129176058\n",
      "Test loss = 1.9092843532562256\n",
      "\n",
      "Epoch 17\n",
      "Train loss = 0.4346237317038079\n",
      "Test loss = 1.9167461395263672\n",
      "\n",
      "Epoch 18\n",
      "Train loss = 0.43172486844705416\n",
      "Test loss = 2.2234787940979004\n",
      "\n",
      "Epoch 19\n",
      "Train loss = 0.42499715071171523\n",
      "Test loss = 1.7519252300262451\n",
      "\n",
      "Epoch 20\n",
      "Train loss = 0.40404041522415357\n",
      "Test loss = 1.919763445854187\n",
      "\n",
      "Epoch 21\n",
      "Train loss = 0.40736691195440167\n",
      "Test loss = 1.9619121551513672\n",
      "\n",
      "Epoch 22\n",
      "Train loss = 0.40574442223102475\n",
      "Test loss = 2.097825288772583\n",
      "\n",
      "Epoch 23\n",
      "Train loss = 0.4323337796415823\n",
      "Test loss = 1.9094491004943848\n",
      "\n",
      "Epoch 24\n",
      "Train loss = 0.4092995350055086\n",
      "Test loss = 1.8033628463745117\n",
      "\n",
      "Epoch 25\n",
      "Train loss = 0.3924042758764699\n",
      "Test loss = 1.857513427734375\n",
      "\n",
      "Epoch 26\n",
      "Train loss = 0.3823689190263394\n",
      "Test loss = 1.9432770013809204\n",
      "\n",
      "Epoch 27\n",
      "Train loss = 0.39975770649228554\n",
      "Test loss = 2.0090816020965576\n",
      "\n",
      "Epoch 28\n",
      "Train loss = 0.4516305158147588\n",
      "Test loss = 2.12790846824646\n",
      "\n",
      "Epoch 29\n",
      "Train loss = 0.4438134211852836\n",
      "Test loss = 2.0515241622924805\n"
     ]
    }
   ],
   "source": [
    "losses_train, losses_test = model.train()"
   ]
  },
  {
   "cell_type": "code",
   "execution_count": 204,
   "metadata": {},
   "outputs": [],
   "source": [
    "def draw_graphs(losses_train, losses_test):\n",
    "    \n",
    "    plt.figure(figsize=(7, 7))\n",
    "\n",
    "    plt.plot(losses_train, label=\"Train loss\", c='y')\n",
    "    plt.plot(losses_test, label=\"Test loss\", c='r')\n",
    "    plt.xlabel('Epoch')\n",
    "    plt.ylabel('Avarage RMSE loss')\n",
    "    plt.savefig(\"loss_graph.png\", dpi = 800)\n",
    "    \n",
    "    plt.legend()"
   ]
  },
  {
   "cell_type": "code",
   "execution_count": 205,
   "metadata": {},
   "outputs": [
    {
     "data": {
      "image/png": "[encoded data removed]",
      "text/plain": [
       "<Figure size 504x504 with 1 Axes>"
      ]
     },
     "metadata": {
      "needs_background": "light"
     },
     "output_type": "display_data"
    }
   ],
   "source": [
    "draw_graphs(losses_train, losses_test)"
   ]
  },
  {
   "cell_type": "markdown",
   "metadata": {},
   "source": [
    "Пример выполнения функции forward для тестовых данных"
   ]
  },
  {
   "cell_type": "code",
   "execution_count": 166,
   "metadata": {},
   "outputs": [],
   "source": [
    "test_dataloader = DataLoader(test_factor_matrix, batch_size=1, shuffle=False)\n",
    "test_x = next(iter(test_dataloader))"
   ]
  },
  {
   "cell_type": "code",
   "execution_count": 184,
   "metadata": {
    "scrolled": true
   },
   "outputs": [
    {
     "data": {
      "text/plain": [
       "(tensor([[2.8347, 3.8024, 3.3003,  ..., 3.1376, 3.1183, 3.1832]],\n",
       "        grad_fn=<SliceBackward>),\n",
       " tensor([[3., 0., 0.,  ..., 0., 0., 0.]]))"
      ]
     },
     "execution_count": 184,
     "metadata": {},
     "output_type": "execute_result"
    }
   ],
   "source": [
    "prediction = model.forward(test_x)\n",
    "prediction[:5], test_x.to_dense()[:5]"
   ]
  },
  {
   "cell_type": "markdown",
   "metadata": {},
   "source": [
    "Сохраняем результат"
   ]
  },
  {
   "cell_type": "code",
   "execution_count": 203,
   "metadata": {},
   "outputs": [],
   "source": [
    "res = pd.DataFrame({'Epoch': np.arange(30),\n",
    "                    'Train_loss': np.asarray(losses_train),\n",
    "                    'Test_loss': np.asarray(losses_test)})\n",
    "\n",
    "res['Test_loss'] = res['Test_loss'].apply(lambda x: float(x.data))\n",
    "res.to_csv('result.csv')"
   ]
  }
 ],
 "metadata": {
  "kernelspec": {
   "display_name": "Python 3",
   "language": "python",
   "name": "python3"
  },
  "language_info": {
   "codemirror_mode": {
    "name": "ipython",
    "version": 3
   },
   "file_extension": ".py",
   "mimetype": "text/x-python",
   "name": "python",
   "nbconvert_exporter": "python",
   "pygments_lexer": "ipython3",
   "version": "3.7.6"
  }
 },
 "nbformat": 4,
 "nbformat_minor": 4
}
